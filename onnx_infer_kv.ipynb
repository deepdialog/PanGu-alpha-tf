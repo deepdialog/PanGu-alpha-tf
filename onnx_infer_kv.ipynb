{
 "cells": [
  {
   "cell_type": "code",
   "execution_count": 1,
   "metadata": {},
   "outputs": [],
   "source": [
    "import os\n",
    "import jieba\n",
    "import numpy as np\n",
    "from scipy.special import softmax\n",
    "from onnxruntime import GraphOptimizationLevel, InferenceSession, SessionOptions, get_all_providers\n",
    "from tokenization_jieba import JIEBATokenizer"
   ]
  },
  {
   "cell_type": "code",
   "execution_count": 2,
   "metadata": {},
   "outputs": [
    {
     "name": "stdout",
     "output_type": "stream",
     "text": [
      "model loading...\n"
     ]
    },
    {
     "name": "stderr",
     "output_type": "stream",
     "text": [
      "Building prefix dict from the default dictionary ...\n",
      "Loading model from cache /tmp/jieba.cache\n",
      "Loading model cost 0.528 seconds.\n",
      "Prefix dict has been built successfully.\n"
     ]
    },
    {
     "name": "stdout",
     "output_type": "stream",
     "text": [
      "model green\n"
     ]
    }
   ],
   "source": [
    "def create_model_for_provider(model_path: str, provider: str= 'CPUExecutionProvider') -> InferenceSession:\n",
    "    assert provider in get_all_providers(), f\"provider {provider} not found, {get_all_providers()}\"\n",
    "    # Few properties that might have an impact on performances (provided by MS)\n",
    "    options = SessionOptions()\n",
    "    options.intra_op_num_threads = int(os.environ.get('NUM_THREADS', 4))\n",
    "    options.graph_optimization_level = GraphOptimizationLevel.ORT_ENABLE_ALL\n",
    "    # Load the model as a graph and prepare the CPU backend\n",
    "    session = InferenceSession(model_path, options, providers=[provider])\n",
    "    session.disable_fallback()\n",
    "    return session\n",
    "\n",
    "\n",
    "print('model loading...')\n",
    "tokenizer = JIEBATokenizer(\n",
    "    'tokenizer/vocab.vocab',\n",
    "    'tokenizer/vocab.model')\n",
    "pangu_kv = create_model_for_provider('./onnx_kv_q/pangu.onnx')\n",
    "jieba.initialize()\n",
    "kv_cache_start = np.load('kv_cache.npy')\n",
    "print('model green')"
   ]
  },
  {
   "cell_type": "code",
   "execution_count": 3,
   "metadata": {},
   "outputs": [],
   "source": [
    "def generate(\n",
    "    text,\n",
    "    max_len = 100,\n",
    "    temperature = 1.0,\n",
    "    top_p = 0.95,\n",
    "    top_k = 50,\n",
    "    eod=None,\n",
    "    additional_eod=[],\n",
    "    ban = []\n",
    "):\n",
    "    if eod is None:\n",
    "        eod = [tokenizer.eod_id, tokenizer.eot_id]\n",
    "    ids = tokenizer.encode(text)\n",
    "    kv_cache = None\n",
    "\n",
    "    for i in range(max_len):\n",
    "        if i == 0:\n",
    "            logits, kv_cache = pangu_kv.run(None, {\n",
    "                \"input_ids\": np.array([ids], dtype=np.int64),\n",
    "                'kv_cache': kv_cache_start,\n",
    "            })\n",
    "        else:\n",
    "            logits, new_kv = pangu_kv.run(None, {\n",
    "                \"input_ids\": np.array([[next_token]], dtype=np.int64),\n",
    "                'kv_cache': kv_cache,\n",
    "            })\n",
    "            kv_cache = np.concatenate([kv_cache, new_kv], axis=-2)\n",
    "\n",
    "        for x in ban:\n",
    "            logits[:, -1, x] = -9999\n",
    "\n",
    "        logits = logits / temperature\n",
    "        scores = softmax(logits[:, -1, :])\n",
    "        next_probs = np.sort(scores)[:, ::-1]\n",
    "        if top_p > 0.0 and top_p < 1.0:\n",
    "            next_probs = next_probs[:, :int(next_probs.shape[1] * (1 - top_p))]\n",
    "        if top_k > 0 and top_k < next_probs.shape[1]:\n",
    "            next_probs = next_probs[:, :top_k]\n",
    "        next_probs_1 = next_probs / next_probs.sum(axis=1).reshape((-1, 1))\n",
    "\n",
    "        next_tokens = np.argsort(scores)[:, ::-1]\n",
    "        if top_p > 0.0 and top_p < 1.0:\n",
    "            next_tokens = next_tokens[:, :int(next_tokens.shape[1] * (1 - top_p))]\n",
    "        if top_k > 0 and top_k < next_tokens.shape[1]:\n",
    "            next_tokens = next_tokens[:, :top_k]\n",
    "\n",
    "        next_token = np.random.choice(next_tokens[0], p=next_probs_1[0])\n",
    "        if next_token in eod or next_token in additional_eod:\n",
    "            break\n",
    "        ids.append(next_token)\n",
    "    return tokenizer.decode([int(x) for x in ids]).replace(' ', '')"
   ]
  },
  {
   "cell_type": "code",
   "execution_count": 4,
   "metadata": {},
   "outputs": [
    {
     "name": "stdout",
     "output_type": "stream",
     "text": [
      "西红柿炒鸡蛋的做法:\n",
      "1.鸡蛋打散,西红柿切成小块。2.炒锅加油烧热,加入鸡蛋,翻炒。3.炒至鸡蛋全部变成小块,然后盛出备用。4.然后加入西红柿碎。5.翻炒均匀后再加盐。6.放入黑胡椒粉。7.大火炒至西红柿7成熟就可以出锅了。\n"
     ]
    }
   ],
   "source": [
    "print(generate('西红柿炒鸡蛋的做法：\\n', max_len=200))"
   ]
  },
  {
   "cell_type": "code",
   "execution_count": 5,
   "metadata": {},
   "outputs": [
    {
     "name": "stdout",
     "output_type": "stream",
     "text": [
      "上联:天地在我心中\n",
      "下联:明月我心灯\n"
     ]
    }
   ],
   "source": [
    "print(generate('上联：天地在我心中\\n下联：', max_len=50))"
   ]
  },
  {
   "cell_type": "code",
   "execution_count": 6,
   "metadata": {},
   "outputs": [
    {
     "name": "stdout",
     "output_type": "stream",
     "text": [
      "1+1=2;3+5=8;2+4=16\n"
     ]
    }
   ],
   "source": [
    "print(generate('1+1=2;3+5=8;2+4=', max_len=1))"
   ]
  },
  {
   "cell_type": "code",
   "execution_count": 7,
   "metadata": {},
   "outputs": [
    {
     "name": "stdout",
     "output_type": "stream",
     "text": [
      "默写古诗:\n",
      "白日依山尽,黄河入海流。\n",
      "床前明月光,疑是地上霜。\n"
     ]
    }
   ],
   "source": [
    "print(generate('默写古诗：\\n白日依山尽，黄河入海流。\\n床前明月光，', max_len=5))"
   ]
  },
  {
   "cell_type": "code",
   "execution_count": 8,
   "metadata": {},
   "outputs": [
    {
     "name": "stdout",
     "output_type": "stream",
     "text": [
      "李大嘴:“各回各家,各找各妈!”\n",
      "佟掌柜:“没您说的那么严重。”\n",
      "二宝和小翠倒是\n"
     ]
    }
   ],
   "source": [
    "print(generate('李大嘴：“各回各家，各找各妈！” \\n佟掌柜：', 20))"
   ]
  },
  {
   "cell_type": "code",
   "execution_count": 9,
   "metadata": {},
   "outputs": [
    {
     "name": "stdout",
     "output_type": "stream",
     "text": [
      "中国的首都是北京\n",
      "日本的首都是东京\n",
      "美国的首都是华盛顿\n"
     ]
    }
   ],
   "source": [
    "print(generate('中国的首都是北京\\n日本的首都是东京\\n美国的首都是'))"
   ]
  },
  {
   "cell_type": "code",
   "execution_count": 10,
   "metadata": {},
   "outputs": [
    {
     "name": "stdout",
     "output_type": "stream",
     "text": [
      "中国的四大发明有哪些?\n",
      "造纸术\n"
     ]
    }
   ],
   "source": [
    "print(generate('中国的四大发明有哪些？', 50))"
   ]
  },
  {
   "cell_type": "code",
   "execution_count": 11,
   "metadata": {},
   "outputs": [
    {
     "name": "stdout",
     "output_type": "stream",
     "text": [
      "乔布斯曾经说过:“当我们还没有出生的时候,我们不知道自己还能做什么,也不知道未来将从哪里开始,所以,必须去找到自己的位置,并且做自己擅长的事。”而在这个时代,\n"
     ]
    }
   ],
   "source": [
    "print(generate('''乔布斯曾经说过：“''', 50))"
   ]
  },
  {
   "cell_type": "code",
   "execution_count": 12,
   "metadata": {},
   "outputs": [
    {
     "name": "stdout",
     "output_type": "stream",
     "text": [
      "老子曾经说过:“大难不死必有后福”,是的,当灾难降临到自己身上时,一定会有贵人相助,而这种贵人相助可以让自己更快进入好的命运之中,获得最好的生活。一\n"
     ]
    }
   ],
   "source": [
    "print(generate('''老子曾经说过：“''', 50))"
   ]
  },
  {
   "cell_type": "code",
   "execution_count": 13,
   "metadata": {},
   "outputs": [
    {
     "name": "stdout",
     "output_type": "stream",
     "text": [
      "老子曾经说过:“大道至简,知易行难。”要知道天下事复杂得多,在我们看来,要走成功之道,要从政的人多,不走成功之道的人少。古往今来无数聪明\n"
     ]
    }
   ],
   "source": [
    "print(generate('''老子曾经说过：“''', 50))"
   ]
  },
  {
   "cell_type": "code",
   "execution_count": null,
   "metadata": {},
   "outputs": [],
   "source": []
  }
 ],
 "metadata": {
  "kernelspec": {
   "display_name": "Python 3",
   "language": "python",
   "name": "python3"
  },
  "language_info": {
   "codemirror_mode": {
    "name": "ipython",
    "version": 3
   },
   "file_extension": ".py",
   "mimetype": "text/x-python",
   "name": "python",
   "nbconvert_exporter": "python",
   "pygments_lexer": "ipython3",
   "version": "3.8.3"
  }
 },
 "nbformat": 4,
 "nbformat_minor": 4
}
