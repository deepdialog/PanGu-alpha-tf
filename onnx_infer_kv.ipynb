{
 "cells": [
  {
   "cell_type": "code",
   "execution_count": 1,
   "metadata": {},
   "outputs": [],
   "source": [
    "import numpy as np\n",
    "from tqdm import tqdm\n",
    "from scipy.special import softmax\n",
    "from onnxruntime import GraphOptimizationLevel, InferenceSession, SessionOptions, get_all_providers\n",
    "from tokenization_jieba import JIEBATokenizer"
   ]
  },
  {
   "cell_type": "code",
   "execution_count": 2,
   "metadata": {},
   "outputs": [],
   "source": [
    "def create_model_for_provider(model_path: str, provider: str= 'CPUExecutionProvider') -> InferenceSession:\n",
    "    assert provider in get_all_providers(), f\"provider {provider} not found, {get_all_providers()}\"\n",
    "    # Few properties that might have an impact on performances (provided by MS)\n",
    "    options = SessionOptions()\n",
    "    options.intra_op_num_threads = 4\n",
    "    options.graph_optimization_level = GraphOptimizationLevel.ORT_ENABLE_ALL\n",
    "    # Load the model as a graph and prepare the CPU backend\n",
    "    session = InferenceSession(model_path, options, providers=[provider])\n",
    "    session.disable_fallback()\n",
    "    return session"
   ]
  },
  {
   "cell_type": "code",
   "execution_count": 3,
   "metadata": {},
   "outputs": [],
   "source": [
    "tokenizer = JIEBATokenizer(\n",
    "    'PanGu-Alpha-GPU/panguAlpha_pytorch/megatron/tokenizer/bpe_4w_pcl/vocab.vocab',\n",
    "    'PanGu-Alpha-GPU/panguAlpha_pytorch/megatron/tokenizer/bpe_4w_pcl/vocab.model')"
   ]
  },
  {
   "cell_type": "code",
   "execution_count": 4,
   "metadata": {},
   "outputs": [],
   "source": [
    "pangu = create_model_for_provider('./onnx_q/pangu.onnx')\n",
    "pangu_kv = create_model_for_provider('./onnx_kv_q/pangu.onnx')"
   ]
  },
  {
   "cell_type": "code",
   "execution_count": 5,
   "metadata": {},
   "outputs": [],
   "source": [
    "# %%time\n",
    "# ids = tokenizer.encode('什么鬼')\n",
    "\n",
    "# input_ids = np.array([ids], dtype=np.int64)\n",
    "\n",
    "# logits, new_kv = pangu.run(None, {\n",
    "#     \"input_ids\": input_ids,\n",
    "# })\n",
    "# kv_cache = new_kv\n",
    "\n",
    "# next_token = logits[0, -1, :].argmax()\n",
    "\n",
    "# outputs = [next_token]\n",
    "# for i in range(10):\n",
    "#     input_ids = np.array([[next_token]], dtype=np.int64)\n",
    "#     logits, new_kv = pangu_kv.run(None, {\n",
    "#         \"input_ids\": np.array([[next_token]], dtype=np.int64),\n",
    "#         'kv_cache': kv_cache,\n",
    "#     })\n",
    "#     next_token = logits[0, -1, :].argmax()\n",
    "#     kv_cache = np.concatenate([kv_cache, new_kv], axis=-2)\n",
    "#     # kv_cache = kv_cache[:, :, :, :, -50:, :]\n",
    "#     outputs.append(next_token)\n",
    "# print(len(outputs), tokenizer.decode([int(x) for x in outputs]))"
   ]
  },
  {
   "cell_type": "code",
   "execution_count": 15,
   "metadata": {},
   "outputs": [],
   "source": [
    "# ids = tokenizer.encode('上联：天下太平\\n下联：')\n",
    "\n",
    "def generate(\n",
    "    text,\n",
    "    max_len = 100,\n",
    "    temperature = 1.0,\n",
    "    top_p = 0.95,\n",
    "    top_k = 50,\n",
    "    eod=(tokenizer.eod_id, tokenizer.eot_id),\n",
    "    ban = [\n",
    "        8,  # 一个空白字符\n",
    "    ]):\n",
    "\n",
    "    ids = tokenizer.encode(text)\n",
    "\n",
    "    kv_cache = None\n",
    "\n",
    "    for i in range(max_len):\n",
    "\n",
    "        if i == 0:\n",
    "            logits, kv_cache = pangu.run(None, {\n",
    "                \"input_ids\": np.array([ids], dtype=np.int64)\n",
    "            })\n",
    "        else:\n",
    "            logits, new_kv = pangu_kv.run(None, {\n",
    "                \"input_ids\": np.array([[next_token]], dtype=np.int64),\n",
    "                'kv_cache': kv_cache,\n",
    "            })\n",
    "            kv_cache = np.concatenate([kv_cache, new_kv], axis=-2)\n",
    "\n",
    "        for x in ban:\n",
    "            logits[:, -1, x] = -9999\n",
    "\n",
    "        logits = logits / temperature\n",
    "        scores = softmax(logits[:, -1, :])\n",
    "        next_probs = np.sort(scores)[:, ::-1]\n",
    "        if top_p > 0.0 and top_p < 1.0:\n",
    "            next_probs = next_probs[:, :int(next_probs.shape[1] * (1 - top_p))]\n",
    "        if top_k > 0 and top_k < next_probs.shape[1]:\n",
    "            next_probs = next_probs[:, :top_k]\n",
    "        next_probs_1 = next_probs / next_probs.sum(axis=1).reshape((-1, 1))\n",
    "\n",
    "        next_tokens = np.argsort(scores)[:, ::-1]\n",
    "        if top_p > 0.0 and top_p < 1.0:\n",
    "            next_tokens = next_tokens[:, :int(next_tokens.shape[1] * (1 - top_p))]\n",
    "        if top_k > 0 and top_k < next_tokens.shape[1]:\n",
    "            next_tokens = next_tokens[:, :top_k]\n",
    "\n",
    "        next_token = np.random.choice(next_tokens[0], p=next_probs_1[0])\n",
    "        if eod is not None:\n",
    "            if next_token in eod:\n",
    "                break\n",
    "        ids.append(next_token)\n",
    "    return tokenizer.decode([int(x) for x in ids]).replace(' ', '')"
   ]
  },
  {
   "cell_type": "code",
   "execution_count": 22,
   "metadata": {},
   "outputs": [
    {
     "name": "stdout",
     "output_type": "stream",
     "text": [
      "西红柿炒鸡蛋的做法:\n",
      "1.鸡蛋打入碗中打散,加入1/2小勺盐和3克料酒搅拌均匀备用。\n",
      "2.锅中倒入少许油,6成热后放入打散的鸡蛋炒熟出锅,盛出备用。\n",
      "3.锅中留底油,7成热放入鸡尾,用锅内的余温将鸡尾炸制微黄捞出。(如图)\n",
      "4.锅中留少量底油,8成热倒入西红柿块,用筷子将西红柿炒熟至软烂出锅。\n",
      "5.锅中留底油,9成热放入葱姜煸出香味。\n",
      "6.倒入处理好的鸡尾,用锅内的余温将鸡尾炸制微黄捞出。\n",
      "7.锅中留底油,10成热倒入葱姜煸出香味。\n",
      "8.倒入处理好的西\n"
     ]
    }
   ],
   "source": [
    "print(generate('西红柿炒鸡蛋的做法：\\n', max_len=200))"
   ]
  },
  {
   "cell_type": "code",
   "execution_count": 24,
   "metadata": {},
   "outputs": [
    {
     "name": "stdout",
     "output_type": "stream",
     "text": [
      "上联:天地在我心中\n",
      "下联:地水风山花为证。\n"
     ]
    }
   ],
   "source": [
    "print(generate('上联：天地在我心中\\n下联：', max_len=50))"
   ]
  },
  {
   "cell_type": "code",
   "execution_count": 45,
   "metadata": {},
   "outputs": [
    {
     "name": "stdout",
     "output_type": "stream",
     "text": [
      "1+1=2;3+5=8;2+4=?\n"
     ]
    }
   ],
   "source": [
    "print(generate('1+1=2;3+5=8;2+4=', max_len=1))"
   ]
  },
  {
   "cell_type": "code",
   "execution_count": 59,
   "metadata": {},
   "outputs": [
    {
     "name": "stdout",
     "output_type": "stream",
     "text": [
      "默写古诗:\n",
      "白日依山尽,黄河入海流。\n",
      "床前明月光,疑是地上霜。\n"
     ]
    }
   ],
   "source": [
    "print(generate('默写古诗：\\n白日依山尽，黄河入海流。\\n床前明月光，', max_len=5))"
   ]
  },
  {
   "cell_type": "code",
   "execution_count": 60,
   "metadata": {},
   "outputs": [
    {
     "name": "stdout",
     "output_type": "stream",
     "text": [
      "李大嘴:“各回各家,各找各妈!”\n",
      "佟掌柜:“你就是这样的人!”\n",
      "李大嘴又笑着说:“我不\n"
     ]
    }
   ],
   "source": [
    "print(generate('李大嘴：“各回各家，各找各妈！” \\n佟掌柜：', 20))"
   ]
  },
  {
   "cell_type": "code",
   "execution_count": 61,
   "metadata": {},
   "outputs": [
    {
     "name": "stdout",
     "output_type": "stream",
     "text": [
      "中国的首都是北京\n",
      "日本的首都是东京\n",
      "美国的首都是华盛顿\n"
     ]
    }
   ],
   "source": [
    "print(generate('中国的首都是北京\\n日本的首都是东京\\n美国的首都是'))"
   ]
  },
  {
   "cell_type": "code",
   "execution_count": 65,
   "metadata": {},
   "outputs": [
    {
     "name": "stdout",
     "output_type": "stream",
     "text": [
      "中国的四大发明有哪些?\n",
      "四大发明指我国古代四大发明(造纸术、指南针、火药、印刷术)。\n"
     ]
    }
   ],
   "source": [
    "print(generate('中国的四大发明有哪些？', 50))"
   ]
  },
  {
   "cell_type": "code",
   "execution_count": 74,
   "metadata": {},
   "outputs": [
    {
     "name": "stdout",
     "output_type": "stream",
     "text": [
      "乔布斯曾经说过:“我的理想是创造一个伟大的公司,能够创造出具有影响力的产品。”这的确是在乔布斯的理想中实现的理想,而这个伟大的产品要靠怎样的团队领导才能领导,就靠乔布斯\n"
     ]
    }
   ],
   "source": [
    "print(generate('''乔布斯曾经说过：“''', 50))"
   ]
  },
  {
   "cell_type": "code",
   "execution_count": 76,
   "metadata": {},
   "outputs": [
    {
     "name": "stdout",
     "output_type": "stream",
     "text": [
      "老子曾经说过:“士农工商,天下之通义也”。在这些传统的经济模式中,商人最初被看成是商人的同义词,而“商”字和“人”字在历史上都曾被用来\n"
     ]
    }
   ],
   "source": [
    "print(generate('''老子曾经说过：“''', 50))"
   ]
  },
  {
   "cell_type": "code",
   "execution_count": 77,
   "metadata": {},
   "outputs": [
    {
     "name": "stdout",
     "output_type": "stream",
     "text": [
      "老子曾经说过:“天下大道,其犹张弓与?高者抑之,下者举之。天下莫柔弱于水,而攻坚强者莫之能胜。”如果你想让自己的生命变得强大,那么请在你的日常\n"
     ]
    }
   ],
   "source": [
    "print(generate('''老子曾经说过：“''', 50))"
   ]
  },
  {
   "cell_type": "code",
   "execution_count": null,
   "metadata": {},
   "outputs": [],
   "source": []
  }
 ],
 "metadata": {
  "kernelspec": {
   "display_name": "Python 3",
   "language": "python",
   "name": "python3"
  },
  "language_info": {
   "codemirror_mode": {
    "name": "ipython",
    "version": 3
   },
   "file_extension": ".py",
   "mimetype": "text/x-python",
   "name": "python",
   "nbconvert_exporter": "python",
   "pygments_lexer": "ipython3",
   "version": "3.8.3"
  }
 },
 "nbformat": 4,
 "nbformat_minor": 4
}
